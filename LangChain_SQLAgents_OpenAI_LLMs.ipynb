{
 "cells": [
  {
   "cell_type": "markdown",
   "id": "de8c4023",
   "metadata": {},
   "source": [
    "By leveraging the power of LangChain, SQL Agents, and OpenAI's Large Language Models (LLMs) like ChatGPT, we can create applications that enable users to query databases using natural language."
   ]
  },
  {
   "cell_type": "code",
   "execution_count": 1,
   "id": "a651587b",
   "metadata": {},
   "outputs": [],
   "source": [
    "# !pip install langchain openai pymysql \n",
    "# !pip install google-search-results"
   ]
  },
  {
   "cell_type": "code",
   "execution_count": 2,
   "id": "41fea819",
   "metadata": {},
   "outputs": [],
   "source": [
    "import openai\n",
    "import os \n",
    "import time\n",
    "import warnings\n",
    "warnings.filterwarnings('ignore')\n",
    "\n",
    "os.environ['OPENAI_API_KEY'] = \"\"\n",
    "os.environ[\"SERPAPI_API_KEY\"] = \"\""
   ]
  },
  {
   "cell_type": "code",
   "execution_count": 4,
   "id": "d0a15227",
   "metadata": {},
   "outputs": [],
   "source": [
    "from langchain.llms import OpenAI\n",
    "from langchain.agents import AgentType , load_tools , initialize_agent"
   ]
  },
  {
   "cell_type": "code",
   "execution_count": 5,
   "id": "84f76fb7",
   "metadata": {},
   "outputs": [],
   "source": [
    "llm = OpenAI(temperature = 0 , model = 'text-davinci-003')\n",
    "\n",
    "tools = load_tools(['serpapi' , 'llm-math'] , llm = llm)\n",
    "agent = initialize_agent(tools = tools , llm = llm , agent = AgentType.ZERO_SHOT_REACT_DESCRIPTION , verbose = True)"
   ]
  },
  {
   "cell_type": "code",
   "execution_count": 8,
   "id": "312ced55",
   "metadata": {},
   "outputs": [],
   "source": [
    "try:\n",
    "    res = agent.run(\"Who is Sachin Tendulkar? What is his current age raised to the power 2?\")\n",
    "except openai.OpenAIError as e:\n",
    "    print(f\"An error occurred: {e}\")"
   ]
  },
  {
   "cell_type": "code",
   "execution_count": 7,
   "id": "69d22ddd",
   "metadata": {},
   "outputs": [
    {
     "data": {
      "text/plain": [
       "'Sachin Ramesh Tendulkar, BR AO is 50 years old and his age raised to the power 2 is 2500.'"
      ]
     },
     "execution_count": 7,
     "metadata": {},
     "output_type": "execute_result"
    }
   ],
   "source": [
    "res"
   ]
  },
  {
   "cell_type": "code",
   "execution_count": null,
   "id": "ce7b1bcd",
   "metadata": {},
   "outputs": [],
   "source": []
  },
  {
   "cell_type": "code",
   "execution_count": 9,
   "id": "68f67f33",
   "metadata": {},
   "outputs": [],
   "source": [
    "from langchain.chat_models import ChatOpenAI\n",
    "from langchain.sql_database import SQLDatabase\n",
    "from langchain.agents import create_sql_agent\n",
    "from langchain.agents.agent_toolkits import SQLDatabaseToolkit"
   ]
  },
  {
   "cell_type": "code",
   "execution_count": 14,
   "id": "51967f8c",
   "metadata": {},
   "outputs": [],
   "source": [
    "db_user = \"\"\n",
    "db_password = \"\"\n",
    "db_host = \"\"\n",
    "port = \"\"\n",
    "db_name = \"classicmodels\"\n",
    "\n",
    "db = SQLDatabase.from_uri(f\"mysql+pymysql://{db_user}:{db_password}@{db_host}:{port}/{db_name}\")"
   ]
  },
  {
   "cell_type": "code",
   "execution_count": 15,
   "id": "cdbd3b73",
   "metadata": {},
   "outputs": [],
   "source": [
    "llm = ChatOpenAI(model_name=\"gpt-3.5-turbo\")\n",
    "\n",
    "toolkit = SQLDatabaseToolkit(db=db, llm=llm)\n",
    "\n",
    "agent_executor = create_sql_agent(\n",
    "    llm=llm,\n",
    "    toolkit=toolkit,\n",
    "    verbose=True\n",
    ")"
   ]
  },
  {
   "cell_type": "code",
   "execution_count": 20,
   "id": "73301f5b",
   "metadata": {},
   "outputs": [],
   "source": [
    "res = agent_executor.run(\"List the top 3 countries with the highest number of orders\")"
   ]
  },
  {
   "cell_type": "code",
   "execution_count": 17,
   "id": "f15b1595",
   "metadata": {},
   "outputs": [
    {
     "data": {
      "text/plain": [
       "'USA, France, Spain'"
      ]
     },
     "execution_count": 17,
     "metadata": {},
     "output_type": "execute_result"
    }
   ],
   "source": [
    "res"
   ]
  },
  {
   "cell_type": "code",
   "execution_count": 21,
   "id": "6e187fbc",
   "metadata": {},
   "outputs": [],
   "source": [
    "res = agent_executor.run(\"Find the top 5 products with the highest total sales revenue\")"
   ]
  },
  {
   "cell_type": "code",
   "execution_count": 22,
   "id": "8c0d7e6a",
   "metadata": {},
   "outputs": [
    {
     "data": {
      "text/plain": [
       "'The top 5 products with the highest total sales revenue are:\\n\\n1. 1995 Honda Civic - $917,493.08\\n2. 1952 Alpine Renault 1300 - $720,126.90\\n3. 1962 LanciaA Delta 16V - $702,325.22\\n4. 1968 Dodge Charger - $685,684.68\\n5. 1976 Ford Gran Torino - $670,743.23'"
      ]
     },
     "execution_count": 22,
     "metadata": {},
     "output_type": "execute_result"
    }
   ],
   "source": [
    "res"
   ]
  },
  {
   "cell_type": "code",
   "execution_count": null,
   "id": "e9279b1e",
   "metadata": {},
   "outputs": [],
   "source": []
  }
 ],
 "metadata": {
  "kernelspec": {
   "display_name": "Python 3 (ipykernel)",
   "language": "python",
   "name": "python3"
  },
  "language_info": {
   "codemirror_mode": {
    "name": "ipython",
    "version": 3
   },
   "file_extension": ".py",
   "mimetype": "text/x-python",
   "name": "python",
   "nbconvert_exporter": "python",
   "pygments_lexer": "ipython3",
   "version": "3.9.13"
  }
 },
 "nbformat": 4,
 "nbformat_minor": 5
}
